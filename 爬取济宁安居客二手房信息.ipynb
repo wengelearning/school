{
 "cells": [
  {
   "cell_type": "code",
   "execution_count": 15,
   "metadata": {},
   "outputs": [
    {
     "data": {
      "text/html": [
       "<div>\n",
       "<style>\n",
       "    .dataframe thead tr:only-child th {\n",
       "        text-align: right;\n",
       "    }\n",
       "\n",
       "    .dataframe thead th {\n",
       "        text-align: left;\n",
       "    }\n",
       "\n",
       "    .dataframe tbody tr th {\n",
       "        vertical-align: top;\n",
       "    }\n",
       "</style>\n",
       "<table border=\"1\" class=\"dataframe\">\n",
       "  <thead>\n",
       "    <tr style=\"text-align: right;\">\n",
       "      <th></th>\n",
       "      <th>houseinfo</th>\n",
       "      <th>totalprice</th>\n",
       "    </tr>\n",
       "  </thead>\n",
       "  <tbody>\n",
       "    <tr>\n",
       "      <th>0</th>\n",
       "      <td>\\n\\n                免 税！冠亚星城三居室边户南北通透随时看房\\n</td>\n",
       "      <td>80</td>\n",
       "    </tr>\n",
       "    <tr>\n",
       "      <th>1</th>\n",
       "      <td>\\n\\n                兴唐国翠城 精装131.18平三室二厅二卫满五唯一好...</td>\n",
       "      <td>128</td>\n",
       "    </tr>\n",
       "    <tr>\n",
       "      <th>2</th>\n",
       "      <td>\\n\\n                冠亚星城洸河路吴泰闸路一楼带院 3室2厅1卫\\n</td>\n",
       "      <td>108</td>\n",
       "    </tr>\n",
       "    <tr>\n",
       "      <th>3</th>\n",
       "      <td>\\n\\n                阳光城市花园 东单元东户 大3室 送车位储藏室 临阳...</td>\n",
       "      <td>165</td>\n",
       "    </tr>\n",
       "    <tr>\n",
       "      <th>4</th>\n",
       "      <td>\\n\\n                洸河花园好房源，大市证好贷款.非真实图片\\n</td>\n",
       "      <td>60</td>\n",
       "    </tr>\n",
       "  </tbody>\n",
       "</table>\n",
       "</div>"
      ],
      "text/plain": [
       "                                           houseinfo totalprice\n",
       "0        \\n\\n                免 税！冠亚星城三居室边户南北通透随时看房\\n         80\n",
       "1  \\n\\n                兴唐国翠城 精装131.18平三室二厅二卫满五唯一好...        128\n",
       "2       \\n\\n                冠亚星城洸河路吴泰闸路一楼带院 3室2厅1卫\\n        108\n",
       "3  \\n\\n                阳光城市花园 东单元东户 大3室 送车位储藏室 临阳...        165\n",
       "4         \\n\\n                洸河花园好房源，大市证好贷款.非真实图片\\n         60"
      ]
     },
     "execution_count": 15,
     "metadata": {},
     "output_type": "execute_result"
    }
   ],
   "source": [
    "import requests\n",
    "import time\n",
    "from bs4 import BeautifulSoup\n",
    "#设置列表页URL的固定部分\n",
    "url='http://jining.anjuke.com/sale/shizhongb/'\n",
    "#设置页面页的可变部分\n",
    "page=('p')\n",
    "headers = {'User-Agent':'Mozilla/5.0 (Windows NT 6.1) AppleWebKit/537.11 (KHTML, like Gecko) Chrome/23.0.1271.64 Safari/537.11',\n",
    "'Accept':'text/html;q=0.9,*/*;q=0.8',\n",
    "'Accept-Charset':'ISO-8859-1,utf-8;q=0.7,*;q=0.3',\n",
    "'Accept-Encoding':'gzip',\n",
    "'Connection':'close',\n",
    "'Referer':'http://www.baidu.com/link?url=_andhfsjjjKRgEWkj7i9cFmYYGsisrnm2A-TN3XZDQXxvGsM9k9ZZSnikW2Yds4s&wd=&eqid=c3435a7d00006bd600000003582bfd1f'\n",
    "}\n",
    "for i in range(1,2):\n",
    "     if i == 1:\n",
    "          i=str(i)\n",
    "          a=(url+page+i+'/')\n",
    "          r=requests.get(url=a,headers=headers)\n",
    "          html=r.content\n",
    "     else:\n",
    "          i=str(i)\n",
    "          a=(url+page+i+'/')\n",
    "          r=requests.get(url=a,headers=headers)\n",
    "          html2=r.content\n",
    "          html = html + html2\n",
    "     #每次间隔0.5秒\n",
    "     time.sleep(0.5)\n",
    "lj=BeautifulSoup(html,'html.parser')\n",
    "price=lj.find_all('div',attrs={'class':'pro-price'})\n",
    "tp=[]\n",
    "for a in price:\n",
    "    totalPrice=a.strong.string\n",
    "    tp.append(totalPrice)\n",
    "houseInfo=lj.find_all('div',attrs={'class':'house-title'})\n",
    "hi=[]\n",
    "for b in houseInfo:\n",
    "    house=b.get_text()\n",
    "    hi.append(house)\n",
    "mianji=lj.find_all()\n",
    "import pandas as pd\n",
    "#创建数据表\n",
    "house=pd.DataFrame({'totalprice':tp,'houseinfo':hi})\n",
    "#查看数据表的内容\n",
    "house.head()        "
   ]
  },
  {
   "cell_type": "code",
   "execution_count": 16,
   "metadata": {
    "collapsed": true
   },
   "outputs": [],
   "source": [
    "house['houseinfo']=house['houseinfo'].map(str.strip)#去除两边的空格"
   ]
  },
  {
   "cell_type": "code",
   "execution_count": 17,
   "metadata": {},
   "outputs": [
    {
     "data": {
      "text/html": [
       "<div>\n",
       "<style>\n",
       "    .dataframe thead tr:only-child th {\n",
       "        text-align: right;\n",
       "    }\n",
       "\n",
       "    .dataframe thead th {\n",
       "        text-align: left;\n",
       "    }\n",
       "\n",
       "    .dataframe tbody tr th {\n",
       "        vertical-align: top;\n",
       "    }\n",
       "</style>\n",
       "<table border=\"1\" class=\"dataframe\">\n",
       "  <thead>\n",
       "    <tr style=\"text-align: right;\">\n",
       "      <th></th>\n",
       "      <th>houseinfo</th>\n",
       "      <th>totalprice</th>\n",
       "    </tr>\n",
       "  </thead>\n",
       "  <tbody>\n",
       "    <tr>\n",
       "      <th>0</th>\n",
       "      <td>免 税！冠亚星城三居室边户南北通透随时看房</td>\n",
       "      <td>80</td>\n",
       "    </tr>\n",
       "    <tr>\n",
       "      <th>1</th>\n",
       "      <td>兴唐国翠城 精装131.18平三室二厅二卫满五唯一好楼层送储</td>\n",
       "      <td>128</td>\n",
       "    </tr>\n",
       "    <tr>\n",
       "      <th>2</th>\n",
       "      <td>冠亚星城洸河路吴泰闸路一楼带院 3室2厅1卫</td>\n",
       "      <td>108</td>\n",
       "    </tr>\n",
       "    <tr>\n",
       "      <th>3</th>\n",
       "      <td>阳光城市花园 东单元东户 大3室 送车位储藏室 临阳光盛景园</td>\n",
       "      <td>165</td>\n",
       "    </tr>\n",
       "    <tr>\n",
       "      <th>4</th>\n",
       "      <td>洸河花园好房源，大市证好贷款.非真实图片</td>\n",
       "      <td>60</td>\n",
       "    </tr>\n",
       "  </tbody>\n",
       "</table>\n",
       "</div>"
      ],
      "text/plain": [
       "                        houseinfo totalprice\n",
       "0           免 税！冠亚星城三居室边户南北通透随时看房         80\n",
       "1  兴唐国翠城 精装131.18平三室二厅二卫满五唯一好楼层送储        128\n",
       "2          冠亚星城洸河路吴泰闸路一楼带院 3室2厅1卫        108\n",
       "3  阳光城市花园 东单元东户 大3室 送车位储藏室 临阳光盛景园        165\n",
       "4            洸河花园好房源，大市证好贷款.非真实图片         60"
      ]
     },
     "execution_count": 17,
     "metadata": {},
     "output_type": "execute_result"
    }
   ],
   "source": [
    "house.head()"
   ]
  },
  {
   "cell_type": "code",
   "execution_count": 19,
   "metadata": {},
   "outputs": [
    {
     "data": {
      "text/html": [
       "<div>\n",
       "<style>\n",
       "    .dataframe thead tr:only-child th {\n",
       "        text-align: right;\n",
       "    }\n",
       "\n",
       "    .dataframe thead th {\n",
       "        text-align: left;\n",
       "    }\n",
       "\n",
       "    .dataframe tbody tr th {\n",
       "        vertical-align: top;\n",
       "    }\n",
       "</style>\n",
       "<table border=\"1\" class=\"dataframe\">\n",
       "  <thead>\n",
       "    <tr style=\"text-align: right;\">\n",
       "      <th></th>\n",
       "      <th>houseinfo</th>\n",
       "      <th>totalprice</th>\n",
       "    </tr>\n",
       "  </thead>\n",
       "  <tbody>\n",
       "    <tr>\n",
       "      <th>55</th>\n",
       "      <td>出售郭家花园中等装修,南北通透,出行方便.</td>\n",
       "      <td>85</td>\n",
       "    </tr>\n",
       "    <tr>\n",
       "      <th>56</th>\n",
       "      <td>重磅消息！！冠亚星城/精装修两室/ /送家具家电/全明户型</td>\n",
       "      <td>70</td>\n",
       "    </tr>\n",
       "    <tr>\n",
       "      <th>57</th>\n",
       "      <td>渔山小区三楼两室纯毛坯，随意装修，送地上储，市证能贷款</td>\n",
       "      <td>48</td>\n",
       "    </tr>\n",
       "    <tr>\n",
       "      <th>58</th>\n",
       "      <td>九九花园11层精装 送车库</td>\n",
       "      <td>68</td>\n",
       "    </tr>\n",
       "    <tr>\n",
       "      <th>59</th>\n",
       "      <td>霍小水景花园，附属医院西临，经典三室，送储送车位</td>\n",
       "      <td>136</td>\n",
       "    </tr>\n",
       "  </tbody>\n",
       "</table>\n",
       "</div>"
      ],
      "text/plain": [
       "                        houseinfo totalprice\n",
       "55          出售郭家花园中等装修,南北通透,出行方便.         85\n",
       "56  重磅消息！！冠亚星城/精装修两室/ /送家具家电/全明户型         70\n",
       "57    渔山小区三楼两室纯毛坯，随意装修，送地上储，市证能贷款         48\n",
       "58                  九九花园11层精装 送车库         68\n",
       "59       霍小水景花园，附属医院西临，经典三室，送储送车位        136"
      ]
     },
     "execution_count": 19,
     "metadata": {},
     "output_type": "execute_result"
    }
   ],
   "source": [
    "house.tail()"
   ]
  },
  {
   "cell_type": "code",
   "execution_count": null,
   "metadata": {
    "collapsed": true
   },
   "outputs": [],
   "source": []
  }
 ],
 "metadata": {
  "kernelspec": {
   "display_name": "Python 3",
   "language": "python",
   "name": "python3"
  },
  "language_info": {
   "codemirror_mode": {
    "name": "ipython",
    "version": 3
   },
   "file_extension": ".py",
   "mimetype": "text/x-python",
   "name": "python",
   "nbconvert_exporter": "python",
   "pygments_lexer": "ipython3",
   "version": "3.6.2"
  }
 },
 "nbformat": 4,
 "nbformat_minor": 2
}
