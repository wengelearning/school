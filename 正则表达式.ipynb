{
 "cells": [
  {
   "cell_type": "code",
   "execution_count": 1,
   "metadata": {
    "collapsed": true
   },
   "outputs": [],
   "source": [
    "import re"
   ]
  },
  {
   "cell_type": "code",
   "execution_count": 2,
   "metadata": {},
   "outputs": [
    {
     "ename": "SyntaxError",
     "evalue": "invalid character in identifier (<ipython-input-2-8bcb03da2e06>, line 1)",
     "output_type": "error",
     "traceback": [
      "\u001b[1;36m  File \u001b[1;32m\"<ipython-input-2-8bcb03da2e06>\"\u001b[1;36m, line \u001b[1;32m1\u001b[0m\n\u001b[1;33m    re.match('c','abcde'）)\u001b[0m\n\u001b[1;37m                        ^\u001b[0m\n\u001b[1;31mSyntaxError\u001b[0m\u001b[1;31m:\u001b[0m invalid character in identifier\n"
     ]
    }
   ],
   "source": [
    "re.match('c','abcde'）)#从字符串的起点开始匹配"
   ]
  },
  {
   "cell_type": "code",
   "execution_count": 3,
   "metadata": {},
   "outputs": [
    {
     "data": {
      "text/plain": [
       "<_sre.SRE_Match object; span=(2, 3), match='c'>"
      ]
     },
     "execution_count": 3,
     "metadata": {},
     "output_type": "execute_result"
    }
   ],
   "source": [
    "re.search('c','abcde')#从字符串做任意匹配"
   ]
  },
  {
   "cell_type": "code",
   "execution_count": 4,
   "metadata": {},
   "outputs": [
    {
     "data": {
      "text/plain": [
       "<_sre.SRE_Match object; span=(0, 1), match='c'>"
      ]
     },
     "execution_count": 4,
     "metadata": {},
     "output_type": "execute_result"
    }
   ],
   "source": [
    "re.match('c','cabdes')"
   ]
  },
  {
   "cell_type": "code",
   "execution_count": 9,
   "metadata": {},
   "outputs": [
    {
     "name": "stdout",
     "output_type": "stream",
     "text": [
      "['@hit.edu.']\n"
     ]
    }
   ],
   "source": [
    "key = r\"chuxiuhong@hit.edu.cn\"\n",
    "#.代表任意一个字符，+表示将前面的一个字符或子表重复一遍或多遍\n",
    "p1 = r\"@.+\\.\"#我想匹配到@后面一直到“.”之间的，在这里是hit\n",
    "pattern1 = re.compile(p1).findall(key)\n",
    "print(pattern1)"
   ]
  },
  {
   "cell_type": "code",
   "execution_count": 10,
   "metadata": {},
   "outputs": [
    {
     "name": "stdout",
     "output_type": "stream",
     "text": [
      "['@hit.']\n"
     ]
    }
   ],
   "source": [
    "key = r\"chuxiuhong@hit.edu.cn\"\n",
    "#+？将贪婪匹配改为懒惰匹配\n",
    "p1 = r\"@.+?\\.\"#我想匹配到@后面一直到“.”之间的，在这里是hit\n",
    "pattern1 = re.compile(p1).findall(key)\n",
    "print(pattern1)"
   ]
  },
  {
   "cell_type": "code",
   "execution_count": 11,
   "metadata": {},
   "outputs": [
    {
     "name": "stdout",
     "output_type": "stream",
     "text": [
      "['http://', 'https://']\n"
     ]
    }
   ],
   "source": [
    "key = r\"http://www.nsfbuhwe.com and https://www.auhfisna.com\"#胡编乱造的网址\n",
    "p1 = r\"https*://\"#看那个星号！*跟在其他符号后面表达可以匹配它0次或多次\n",
    "pattern1 = re.compile(p1).findall(key)\n",
    "print(pattern1)"
   ]
  },
  {
   "cell_type": "code",
   "execution_count": 12,
   "metadata": {},
   "outputs": [
    {
     "name": "stdout",
     "output_type": "stream",
     "text": [
      "['<hTml>hello</Html>']\n"
     ]
    }
   ],
   "source": [
    "key = r\"lalala<hTml>hello</Html>heiheihei\"\n",
    "#[]代表匹配里面的字符中的任意一个\n",
    "p1 = r\"<[Hh][Tt][Mm][Ll]>.+?</[Hh][Tt][Mm][Ll]>\"\n",
    "pattern1 = re.compile(p1).findall(key)\n",
    "print(pattern1)"
   ]
  },
  {
   "cell_type": "code",
   "execution_count": null,
   "metadata": {
    "collapsed": true
   },
   "outputs": [],
   "source": []
  }
 ],
 "metadata": {
  "kernelspec": {
   "display_name": "Python 3",
   "language": "python",
   "name": "python3"
  },
  "language_info": {
   "codemirror_mode": {
    "name": "ipython",
    "version": 3
   },
   "file_extension": ".py",
   "mimetype": "text/x-python",
   "name": "python",
   "nbconvert_exporter": "python",
   "pygments_lexer": "ipython3",
   "version": "3.6.2"
  }
 },
 "nbformat": 4,
 "nbformat_minor": 2
}
