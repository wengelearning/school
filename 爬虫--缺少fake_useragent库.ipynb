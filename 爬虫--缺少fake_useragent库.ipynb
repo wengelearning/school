{
 "cells": [
  {
   "cell_type": "code",
   "execution_count": 1,
   "metadata": {},
   "outputs": [
    {
     "ename": "ModuleNotFoundError",
     "evalue": "No module named 'fake_useragent'",
     "output_type": "error",
     "traceback": [
      "\u001b[1;31m---------------------------------------------------------------------------\u001b[0m",
      "\u001b[1;31mModuleNotFoundError\u001b[0m                       Traceback (most recent call last)",
      "\u001b[1;32m<ipython-input-1-dcc08d03f72a>\u001b[0m in \u001b[0;36m<module>\u001b[1;34m()\u001b[0m\n\u001b[0;32m      2\u001b[0m \u001b[1;32mimport\u001b[0m \u001b[0mre\u001b[0m\u001b[1;33m\u001b[0m\u001b[0m\n\u001b[0;32m      3\u001b[0m \u001b[1;32mfrom\u001b[0m \u001b[0mbs4\u001b[0m \u001b[1;32mimport\u001b[0m \u001b[0mBeautifulSoup\u001b[0m\u001b[1;33m\u001b[0m\u001b[0m\n\u001b[1;32m----> 4\u001b[1;33m \u001b[1;32mfrom\u001b[0m \u001b[0mfake_useragent\u001b[0m \u001b[1;32mimport\u001b[0m \u001b[0mUserAgent\u001b[0m\u001b[1;33m\u001b[0m\u001b[0m\n\u001b[0m\u001b[0;32m      5\u001b[0m \u001b[1;33m\u001b[0m\u001b[0m\n\u001b[0;32m      6\u001b[0m \u001b[0mua\u001b[0m\u001b[1;33m=\u001b[0m\u001b[0mUserAgent\u001b[0m\u001b[1;33m(\u001b[0m\u001b[1;33m)\u001b[0m\u001b[1;33m\u001b[0m\u001b[0m\n",
      "\u001b[1;31mModuleNotFoundError\u001b[0m: No module named 'fake_useragent'"
     ]
    }
   ],
   "source": [
    "import requests\n",
    "import re\n",
    "from bs4 import BeautifulSoup\n",
    "from fake_useragent import UserAgent\n",
    "\n",
    "ua=UserAgent()\n",
    "headers1={'User_Agent':'ua.random'}\n",
    "houseary=[]\n",
    "for i in range(1,50):\n",
    "    res=request.get('http://sh.lianjia.com/ershoufang/d'+str(i),headers=headers1)\n",
    "    soup=BeautifulSoup(res.text,'html.parser')\n",
    "    for j in range(0,29):\n",
    "        url1=soup.select('.prop-title a')[j]['href']\n",
    "        url1=domain+url1\n",
    "        houseary.append(gethousedetail(url,soup,j))\n",
    "def gethousedetail(url,soup,j):\n",
    "    info={}\n",
    "    s=soup.select('.info-col a')[1+3*j]\n",
    "    pat='<a.*?>(.*?)</a>'\n",
    "    info['所在区']=''.join(list(re.compile(pat).findall(str(s))))\n",
    "    s1=soup.select('.info-col a')[0+3*j]\n",
    "    pat1='<span.*?>(.*?)</a>'\n",
    "    info['具体地点']=''.join(list(re.compile(pat1).findall(str(s1))))\n",
    "    s2=soup.select('.info-col a')[2+3*j]\n",
    "    pat2='<a.*?>(.*?)</a>'\n",
    "    info['位置']=''.join(list(re.compile(pat2).findall(str(s2))))\n",
    "    q=request.get(url)\n",
    "    soup=BeautifulSoup(q.text,'html.parser')\n",
    "    for dd in soup.select('.content li'):\n",
    "        a=dd.get_text(strip=True)\n",
    "        if '：' in a:\n",
    "            key,value=a.split('：')\n",
    "            info[key]=value\n",
    "        info['总价']=soup.select('.bold')[0].text.strip()\n",
    "        return info\n",
    "\n",
    "            "
   ]
  },
  {
   "cell_type": "code",
   "execution_count": null,
   "metadata": {
    "collapsed": true
   },
   "outputs": [],
   "source": []
  }
 ],
 "metadata": {
  "kernelspec": {
   "display_name": "Python 3",
   "language": "python",
   "name": "python3"
  },
  "language_info": {
   "codemirror_mode": {
    "name": "ipython",
    "version": 3
   },
   "file_extension": ".py",
   "mimetype": "text/x-python",
   "name": "python",
   "nbconvert_exporter": "python",
   "pygments_lexer": "ipython3",
   "version": "3.6.2"
  }
 },
 "nbformat": 4,
 "nbformat_minor": 2
}
