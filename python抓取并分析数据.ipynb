{
 "cells": [
  {
   "cell_type": "code",
   "execution_count": 1,
   "metadata": {},
   "outputs": [
    {
     "data": {
      "text/html": [
       "<div>\n",
       "<style>\n",
       "    .dataframe thead tr:only-child th {\n",
       "        text-align: right;\n",
       "    }\n",
       "\n",
       "    .dataframe thead th {\n",
       "        text-align: left;\n",
       "    }\n",
       "\n",
       "    .dataframe tbody tr th {\n",
       "        vertical-align: top;\n",
       "    }\n",
       "</style>\n",
       "<table border=\"1\" class=\"dataframe\">\n",
       "  <thead>\n",
       "    <tr style=\"text-align: right;\">\n",
       "      <th></th>\n",
       "      <th>followinfo</th>\n",
       "      <th>houseinfo</th>\n",
       "      <th>totalprice</th>\n",
       "    </tr>\n",
       "  </thead>\n",
       "  <tbody>\n",
       "    <tr>\n",
       "      <th>0</th>\n",
       "      <td>301人关注 / 共50次带看 / 31天以前发布</td>\n",
       "      <td>南湖渠西里  | 2室1厅 | 50.31平米 | 东北 | 简装</td>\n",
       "      <td>335</td>\n",
       "    </tr>\n",
       "    <tr>\n",
       "      <th>1</th>\n",
       "      <td>234人关注 / 共34次带看 / 5个月以前发布</td>\n",
       "      <td>一瓶  | 3室2厅 | 115.79平米 | 北 | 简装 | 有电梯</td>\n",
       "      <td>1120</td>\n",
       "    </tr>\n",
       "    <tr>\n",
       "      <th>2</th>\n",
       "      <td>107人关注 / 共38次带看 / 14天以前发布</td>\n",
       "      <td>天鸿美域  | 4室2厅 | 156.83平米 | 南 北 | 精装</td>\n",
       "      <td>950</td>\n",
       "    </tr>\n",
       "    <tr>\n",
       "      <th>3</th>\n",
       "      <td>149人关注 / 共44次带看 / 6个月以前发布</td>\n",
       "      <td>晶城秀府  | 2室2厅 | 148.38平米 | 东 | 简装 | 有电梯</td>\n",
       "      <td>900</td>\n",
       "    </tr>\n",
       "    <tr>\n",
       "      <th>4</th>\n",
       "      <td>110人关注 / 共36次带看 / 7天以前发布</td>\n",
       "      <td>冠英园小区  | 3室1厅 | 90.3平米 | 东 | 简装</td>\n",
       "      <td>926</td>\n",
       "    </tr>\n",
       "  </tbody>\n",
       "</table>\n",
       "</div>"
      ],
      "text/plain": [
       "                  followinfo                               houseinfo  \\\n",
       "0  301人关注 / 共50次带看 / 31天以前发布       南湖渠西里  | 2室1厅 | 50.31平米 | 东北 | 简装   \n",
       "1  234人关注 / 共34次带看 / 5个月以前发布    一瓶  | 3室2厅 | 115.79平米 | 北 | 简装 | 有电梯   \n",
       "2  107人关注 / 共38次带看 / 14天以前发布      天鸿美域  | 4室2厅 | 156.83平米 | 南 北 | 精装   \n",
       "3  149人关注 / 共44次带看 / 6个月以前发布  晶城秀府  | 2室2厅 | 148.38平米 | 东 | 简装 | 有电梯   \n",
       "4   110人关注 / 共36次带看 / 7天以前发布         冠英园小区  | 3室1厅 | 90.3平米 | 东 | 简装   \n",
       "\n",
       "  totalprice  \n",
       "0        335  \n",
       "1       1120  \n",
       "2        950  \n",
       "3        900  \n",
       "4        926  "
      ]
     },
     "execution_count": 1,
     "metadata": {},
     "output_type": "execute_result"
    }
   ],
   "source": [
    "import requests\n",
    "import time\n",
    "from bs4 import BeautifulSoup\n",
    "#设置列表页URL的固定部分\n",
    "url='http://bj.lianjia.com/ershoufang/'\n",
    "#设置页面页的可变部分\n",
    "page=('pg')\n",
    "headers = {'User-Agent':'Mozilla/5.0 (Windows NT 6.1) AppleWebKit/537.11 (KHTML, like Gecko) Chrome/23.0.1271.64 Safari/537.11',\n",
    "'Accept':'text/html;q=0.9,*/*;q=0.8',\n",
    "'Accept-Charset':'ISO-8859-1,utf-8;q=0.7,*;q=0.3',\n",
    "'Accept-Encoding':'gzip',\n",
    "'Connection':'close',\n",
    "'Referer':'http://www.baidu.com/link?url=_andhfsjjjKRgEWkj7i9cFmYYGsisrnm2A-TN3XZDQXxvGsM9k9ZZSnikW2Yds4s&wd=&eqid=c3435a7d00006bd600000003582bfd1f'\n",
    "}\n",
    "for i in range(1,100):\n",
    "     if i == 1:\n",
    "          i=str(i)\n",
    "          a=(url+page+i+'/')\n",
    "          r=requests.get(url=a,headers=headers)\n",
    "          html=r.content\n",
    "     else:\n",
    "          i=str(i)\n",
    "          a=(url+page+i+'/')\n",
    "          r=requests.get(url=a,headers=headers)\n",
    "          html2=r.content\n",
    "          html = html + html2\n",
    "     #每次间隔0.5秒\n",
    "     time.sleep(0.5)\n",
    "lj=BeautifulSoup(html,'html.parser')\n",
    "price=lj.find_all('div',attrs={'class':'priceInfo'})\n",
    "tp=[]\n",
    "for a in price:\n",
    "    totalPrice=a.span.string\n",
    "    tp.append(totalPrice)\n",
    "houseInfo=lj.find_all('div',attrs={'class':'houseInfo'})\n",
    "hi=[]\n",
    "for b in houseInfo:\n",
    "    house=b.get_text()\n",
    "    hi.append(house)\n",
    "followInfo=lj.find_all('div',attrs={'class':'followInfo'})\n",
    "fi=[]\n",
    "for c in followInfo:\n",
    "    follow=c.get_text()\n",
    "    fi.append(follow)\n",
    "    import pandas as pd\n",
    "#创建数据表\n",
    "house=pd.DataFrame({'totalprice':tp,'houseinfo':hi,'followinfo':fi})\n",
    "#查看数据表的内容\n",
    "house.head()"
   ]
  },
  {
   "cell_type": "code",
   "execution_count": 4,
   "metadata": {},
   "outputs": [
    {
     "data": {
      "text/html": [
       "<div>\n",
       "<style>\n",
       "    .dataframe thead tr:only-child th {\n",
       "        text-align: right;\n",
       "    }\n",
       "\n",
       "    .dataframe thead th {\n",
       "        text-align: left;\n",
       "    }\n",
       "\n",
       "    .dataframe tbody tr th {\n",
       "        vertical-align: top;\n",
       "    }\n",
       "</style>\n",
       "<table border=\"1\" class=\"dataframe\">\n",
       "  <thead>\n",
       "    <tr style=\"text-align: right;\">\n",
       "      <th></th>\n",
       "      <th>xiaoqu</th>\n",
       "      <th>huxing</th>\n",
       "      <th>mianji</th>\n",
       "      <th>chaoxiang</th>\n",
       "      <th>zhuangxiu</th>\n",
       "      <th>dianti</th>\n",
       "      <th>qita</th>\n",
       "    </tr>\n",
       "  </thead>\n",
       "  <tbody>\n",
       "    <tr>\n",
       "      <th>0</th>\n",
       "      <td>南湖渠西里</td>\n",
       "      <td>2室1厅</td>\n",
       "      <td>50.31平米</td>\n",
       "      <td>东北</td>\n",
       "      <td>简装</td>\n",
       "      <td>None</td>\n",
       "      <td>None</td>\n",
       "    </tr>\n",
       "    <tr>\n",
       "      <th>1</th>\n",
       "      <td>一瓶</td>\n",
       "      <td>3室2厅</td>\n",
       "      <td>115.79平米</td>\n",
       "      <td>北</td>\n",
       "      <td>简装</td>\n",
       "      <td>有电梯</td>\n",
       "      <td>None</td>\n",
       "    </tr>\n",
       "    <tr>\n",
       "      <th>2</th>\n",
       "      <td>天鸿美域</td>\n",
       "      <td>4室2厅</td>\n",
       "      <td>156.83平米</td>\n",
       "      <td>南 北</td>\n",
       "      <td>精装</td>\n",
       "      <td>None</td>\n",
       "      <td>None</td>\n",
       "    </tr>\n",
       "    <tr>\n",
       "      <th>3</th>\n",
       "      <td>晶城秀府</td>\n",
       "      <td>2室2厅</td>\n",
       "      <td>148.38平米</td>\n",
       "      <td>东</td>\n",
       "      <td>简装</td>\n",
       "      <td>有电梯</td>\n",
       "      <td>None</td>\n",
       "    </tr>\n",
       "    <tr>\n",
       "      <th>4</th>\n",
       "      <td>冠英园小区</td>\n",
       "      <td>3室1厅</td>\n",
       "      <td>90.3平米</td>\n",
       "      <td>东</td>\n",
       "      <td>简装</td>\n",
       "      <td>None</td>\n",
       "      <td>None</td>\n",
       "    </tr>\n",
       "  </tbody>\n",
       "</table>\n",
       "</div>"
      ],
      "text/plain": [
       "    xiaoqu  huxing      mianji chaoxiang zhuangxiu dianti  qita\n",
       "0  南湖渠西里     2室1厅     50.31平米        东北         简装   None  None\n",
       "1     一瓶     3室2厅    115.79平米         北        简装     有电梯  None\n",
       "2   天鸿美域     4室2厅    156.83平米       南 北         精装   None  None\n",
       "3   晶城秀府     2室2厅    148.38平米         东        简装     有电梯  None\n",
       "4  冠英园小区     3室1厅      90.3平米         东         简装   None  None"
      ]
     },
     "execution_count": 4,
     "metadata": {},
     "output_type": "execute_result"
    }
   ],
   "source": [
    "houseinfo_split=pd.DataFrame((x.split('|')for x in house.houseinfo),index=house.index,\n",
    "                            columns=['xiaoqu','huxing','mianji','chaoxiang','zhuangxiu',\n",
    "                                    'dianti','qita'])#分割数据 \n",
    "houseinfo_split.head()"
   ]
  },
  {
   "cell_type": "code",
   "execution_count": 5,
   "metadata": {},
   "outputs": [
    {
     "data": {
      "text/html": [
       "<div>\n",
       "<style>\n",
       "    .dataframe thead tr:only-child th {\n",
       "        text-align: right;\n",
       "    }\n",
       "\n",
       "    .dataframe thead th {\n",
       "        text-align: left;\n",
       "    }\n",
       "\n",
       "    .dataframe tbody tr th {\n",
       "        vertical-align: top;\n",
       "    }\n",
       "</style>\n",
       "<table border=\"1\" class=\"dataframe\">\n",
       "  <thead>\n",
       "    <tr style=\"text-align: right;\">\n",
       "      <th></th>\n",
       "      <th>followinfo</th>\n",
       "      <th>houseinfo</th>\n",
       "      <th>totalprice</th>\n",
       "      <th>xiaoqu</th>\n",
       "      <th>huxing</th>\n",
       "      <th>mianji</th>\n",
       "      <th>chaoxiang</th>\n",
       "      <th>zhuangxiu</th>\n",
       "      <th>dianti</th>\n",
       "      <th>qita</th>\n",
       "    </tr>\n",
       "  </thead>\n",
       "  <tbody>\n",
       "    <tr>\n",
       "      <th>0</th>\n",
       "      <td>301人关注 / 共50次带看 / 31天以前发布</td>\n",
       "      <td>南湖渠西里  | 2室1厅 | 50.31平米 | 东北 | 简装</td>\n",
       "      <td>335</td>\n",
       "      <td>南湖渠西里</td>\n",
       "      <td>2室1厅</td>\n",
       "      <td>50.31平米</td>\n",
       "      <td>东北</td>\n",
       "      <td>简装</td>\n",
       "      <td>None</td>\n",
       "      <td>None</td>\n",
       "    </tr>\n",
       "    <tr>\n",
       "      <th>1</th>\n",
       "      <td>234人关注 / 共34次带看 / 5个月以前发布</td>\n",
       "      <td>一瓶  | 3室2厅 | 115.79平米 | 北 | 简装 | 有电梯</td>\n",
       "      <td>1120</td>\n",
       "      <td>一瓶</td>\n",
       "      <td>3室2厅</td>\n",
       "      <td>115.79平米</td>\n",
       "      <td>北</td>\n",
       "      <td>简装</td>\n",
       "      <td>有电梯</td>\n",
       "      <td>None</td>\n",
       "    </tr>\n",
       "    <tr>\n",
       "      <th>2</th>\n",
       "      <td>107人关注 / 共38次带看 / 14天以前发布</td>\n",
       "      <td>天鸿美域  | 4室2厅 | 156.83平米 | 南 北 | 精装</td>\n",
       "      <td>950</td>\n",
       "      <td>天鸿美域</td>\n",
       "      <td>4室2厅</td>\n",
       "      <td>156.83平米</td>\n",
       "      <td>南 北</td>\n",
       "      <td>精装</td>\n",
       "      <td>None</td>\n",
       "      <td>None</td>\n",
       "    </tr>\n",
       "    <tr>\n",
       "      <th>3</th>\n",
       "      <td>149人关注 / 共44次带看 / 6个月以前发布</td>\n",
       "      <td>晶城秀府  | 2室2厅 | 148.38平米 | 东 | 简装 | 有电梯</td>\n",
       "      <td>900</td>\n",
       "      <td>晶城秀府</td>\n",
       "      <td>2室2厅</td>\n",
       "      <td>148.38平米</td>\n",
       "      <td>东</td>\n",
       "      <td>简装</td>\n",
       "      <td>有电梯</td>\n",
       "      <td>None</td>\n",
       "    </tr>\n",
       "    <tr>\n",
       "      <th>4</th>\n",
       "      <td>110人关注 / 共36次带看 / 7天以前发布</td>\n",
       "      <td>冠英园小区  | 3室1厅 | 90.3平米 | 东 | 简装</td>\n",
       "      <td>926</td>\n",
       "      <td>冠英园小区</td>\n",
       "      <td>3室1厅</td>\n",
       "      <td>90.3平米</td>\n",
       "      <td>东</td>\n",
       "      <td>简装</td>\n",
       "      <td>None</td>\n",
       "      <td>None</td>\n",
       "    </tr>\n",
       "  </tbody>\n",
       "</table>\n",
       "</div>"
      ],
      "text/plain": [
       "                  followinfo                               houseinfo  \\\n",
       "0  301人关注 / 共50次带看 / 31天以前发布       南湖渠西里  | 2室1厅 | 50.31平米 | 东北 | 简装   \n",
       "1  234人关注 / 共34次带看 / 5个月以前发布    一瓶  | 3室2厅 | 115.79平米 | 北 | 简装 | 有电梯   \n",
       "2  107人关注 / 共38次带看 / 14天以前发布      天鸿美域  | 4室2厅 | 156.83平米 | 南 北 | 精装   \n",
       "3  149人关注 / 共44次带看 / 6个月以前发布  晶城秀府  | 2室2厅 | 148.38平米 | 东 | 简装 | 有电梯   \n",
       "4   110人关注 / 共36次带看 / 7天以前发布         冠英园小区  | 3室1厅 | 90.3平米 | 东 | 简装   \n",
       "\n",
       "  totalprice   xiaoqu  huxing      mianji chaoxiang zhuangxiu dianti  qita  \n",
       "0        335  南湖渠西里     2室1厅     50.31平米        东北         简装   None  None  \n",
       "1       1120     一瓶     3室2厅    115.79平米         北        简装     有电梯  None  \n",
       "2        950   天鸿美域     4室2厅    156.83平米       南 北         精装   None  None  \n",
       "3        900   晶城秀府     2室2厅    148.38平米         东        简装     有电梯  None  \n",
       "4        926  冠英园小区     3室1厅      90.3平米         东         简装   None  None  "
      ]
     },
     "execution_count": 5,
     "metadata": {},
     "output_type": "execute_result"
    }
   ],
   "source": [
    "house=pd.merge(house,houseinfo_split,right_index=True,left_index=True)#拼接表\n",
    "house.head()"
   ]
  },
  {
   "cell_type": "code",
   "execution_count": 6,
   "metadata": {
    "collapsed": true
   },
   "outputs": [],
   "source": [
    "followinfo_split=pd.DataFrame((x.split('/') for x in house.followinfo),index=\n",
    "                             house.index,columns=['guanzhu','daikan','fabu'])\n",
    "house=pd.merge(house,followinfo_split,right_index=True,left_index=True)\n"
   ]
  },
  {
   "cell_type": "code",
   "execution_count": 7,
   "metadata": {
    "scrolled": true
   },
   "outputs": [
    {
     "data": {
      "text/plain": [
       "huxing\n",
       " 1室0厅       39\n",
       " 1室1厅      243\n",
       " 1室2厅        7\n",
       " 2室0厅        4\n",
       " 2室1厅     1347\n",
       " 2室2厅      268\n",
       " 3室0厅        1\n",
       " 3室1厅      535\n",
       " 3室2厅      325\n",
       " 3室3厅        7\n",
       " 4室1厅       21\n",
       " 4室2厅      120\n",
       " 4室3厅        9\n",
       " 5室1厅        5\n",
       " 5室2厅       26\n",
       " 5室3厅        4\n",
       " 6室1厅        1\n",
       " 6室2厅        3\n",
       " 6室4厅        1\n",
       " 7室2厅        1\n",
       " 联排别墅        3\n",
       "Name: huxing, dtype: int64"
      ]
     },
     "execution_count": 7,
     "metadata": {},
     "output_type": "execute_result"
    }
   ],
   "source": [
    "huxing=house.groupby('huxing')['huxing'].agg(len)#按户型列分组并统计数量\n",
    "huxing"
   ]
  },
  {
   "cell_type": "code",
   "execution_count": 15,
   "metadata": {},
   "outputs": [
    {
     "data": {
      "image/png": "[encoded data removed]",
      "text/plain": [
       "<matplotlib.figure.Figure at 0x1f0be208>"
      ]
     },
     "metadata": {},
     "output_type": "display_data"
    }
   ],
   "source": [
    "import matplotlib.pyplot as plt\n",
    "import numpy as np\n",
    "plt.rc('font',family='STXihei',size=11)\n",
    "a=np.array([1,2,3,4,5,6,7,8,9,10,11,12,13,14,15,16,17,18,19,20,21])#户型数量\n",
    "plt.barh([1,2,3,4,5,6,7,8,9,10,11,12,13,14,15,16,17,18,19,20,21],huxing,color='#052B6C',\n",
    "        alpha=0.8,align='center',edgecolor='white')#横向柱图  bar垂直柱图\n",
    "plt.ylabel('户型')\n",
    "plt.xlabel('数量')\n",
    "plt.xlim(0,1500)\n",
    "plt.ylim(0,21)\n",
    "plt.title('房源户型分布情况')\n",
    "plt.legend(['数量'],loc='upper right')\n",
    "plt.grid(color='#95a5a6',linestyle='--',linewidth=1,axis='y',alpha=0.4)#网格\n",
    "plt.yticks(a,('1室0厅','1室1厅','1室2厅','2室0厅','2室1厅','2室2厅','3室0厅',\n",
    "              '3室1厅','3室2厅','3室3厅','4室1厅','4室2厅','4室3厅','5室1厅',\n",
    "              '5室2厅','5室3厅', '6室1厅','6室2厅','6室4厅','7室2厅','联排别墅'))\n",
    "plt.show()"
   ]
  },
  {
   "cell_type": "code",
   "execution_count": 62,
   "metadata": {},
   "outputs": [
    {
     "ename": "SyntaxError",
     "evalue": "unexpected EOF while parsing (<ipython-input-62-2aceb92280ae>, line 2)",
     "output_type": "error",
     "traceback": [
      "\u001b[1;36m  File \u001b[1;32m\"<ipython-input-62-2aceb92280ae>\"\u001b[1;36m, line \u001b[1;32m2\u001b[0m\n\u001b[1;33m    house[house['mianji'].str.contains('\\s+\\d+.\\d+\\s+*')#模糊匹配待续\u001b[0m\n\u001b[1;37m                                                               ^\u001b[0m\n\u001b[1;31mSyntaxError\u001b[0m\u001b[1;31m:\u001b[0m unexpected EOF while parsing\n"
     ]
    }
   ],
   "source": [
    "house['mianji'].str.contains('平米')#模糊匹配待续"
   ]
  },
  {
   "cell_type": "code",
   "execution_count": 18,
   "metadata": {
    "collapsed": true
   },
   "outputs": [],
   "source": [
    "mianji_num_split=pd.DataFrame((x.split('平') for x in house.mianji)#对房源面积分割\n",
    "                             ,index=house.index,columns=['mianji_num','mi'])\n",
    "house=pd.merge(house,mianji_num_split,right_index=True,left_index=True)"
   ]
  },
  {
   "cell_type": "code",
   "execution_count": 65,
   "metadata": {},
   "outputs": [
    {
     "data": {
      "text/html": [
       "<div>\n",
       "<style>\n",
       "    .dataframe thead tr:only-child th {\n",
       "        text-align: right;\n",
       "    }\n",
       "\n",
       "    .dataframe thead th {\n",
       "        text-align: left;\n",
       "    }\n",
       "\n",
       "    .dataframe tbody tr th {\n",
       "        vertical-align: top;\n",
       "    }\n",
       "</style>\n",
       "<table border=\"1\" class=\"dataframe\">\n",
       "  <thead>\n",
       "    <tr style=\"text-align: right;\">\n",
       "      <th></th>\n",
       "      <th>followinfo</th>\n",
       "      <th>houseinfo</th>\n",
       "      <th>totalprice</th>\n",
       "      <th>xiaoqu</th>\n",
       "      <th>huxing</th>\n",
       "      <th>mianji</th>\n",
       "      <th>chaoxiang</th>\n",
       "      <th>zhuangxiu</th>\n",
       "      <th>dianti</th>\n",
       "      <th>qita</th>\n",
       "      <th>guanzhu</th>\n",
       "      <th>daikan</th>\n",
       "      <th>fabu</th>\n",
       "      <th>mianji_num</th>\n",
       "      <th>mi</th>\n",
       "    </tr>\n",
       "  </thead>\n",
       "  <tbody>\n",
       "  </tbody>\n",
       "</table>\n",
       "</div>"
      ],
      "text/plain": [
       "Empty DataFrame\n",
       "Columns: [followinfo, houseinfo, totalprice, xiaoqu, huxing, mianji, chaoxiang, zhuangxiu, dianti, qita, guanzhu, daikan, fabu, mianji_num, mi]\n",
       "Index: []"
      ]
     },
     "execution_count": 65,
     "metadata": {},
     "output_type": "execute_result"
    }
   ],
   "source": [
    "house.drop(house.index[[786,785,1655]],inplace=True)#删除索引为  的行\n",
    "house[house['mianji_num']=='4室2厅'].head()\n",
    "house[house['mianji_num']=='3室3厅'].head()"
   ]
  },
  {
   "cell_type": "code",
   "execution_count": 66,
   "metadata": {},
   "outputs": [
    {
     "data": {
      "text/plain": [
       "(31.899999999999999, 342.31)"
      ]
     },
     "execution_count": 66,
     "metadata": {},
     "output_type": "execute_result"
    }
   ],
   "source": [
    "#去除mianji_num字段两端的空格\n",
    "house['mianji_num']=house['mianji_num'].map(str.strip)\n",
    "#更改mianji_num字段格式为float\n",
    "house['mianji_num']=house['mianji_num'].astype(float)#数据格式转换\n",
    "house['mianji_num'].min(),house['mianji_num'].max()"
   ]
  },
  {
   "cell_type": "code",
   "execution_count": 71,
   "metadata": {},
   "outputs": [
    {
     "data": {
      "image/png": "[encoded data removed]",
      "text/plain": [
       "<matplotlib.figure.Figure at 0x1f6e4160>"
      ]
     },
     "metadata": {},
     "output_type": "display_data"
    }
   ],
   "source": [
    "bins=[0,50,100,150,200,250,300,350]\n",
    "group_mianji=['小于50','50-100','100-150', '150-200','200-250','250-300','300-350']\n",
    "house['group_manji']=pd.cut(house['mianji_num'],bins,labels=group_mianji)\n",
    "group_mianji=house.groupby('group_mianji')['group_mianji'].agg(len)\n",
    "plt.rc('font', family='STXihei', size=15)\n",
    "a=np.array([1,2,3,4,5,6,7])\n",
    "plt.barh([1,2,3,4,5,6,7],group_mianji,color='#052B6C',alpha=0.8,\n",
    "         align='center',edgecolor='white')\n",
    "plt.ylabel('面积分组')\n",
    "plt.xlabel('数量')\n",
    "plt.title('房源面积分布')\n",
    "plt.legend(['数量'], loc='upper right')\n",
    "plt.grid(color='#95a5a6',linestyle='--', linewidth=1,axis='y',alpha=0.4)\n",
    "plt.yticks(a,('小于50', '50-100', '100-150', '150-200','200-250','250-300','300-350'))\n",
    "plt.show()"
   ]
  },
  {
   "cell_type": "code",
   "execution_count": null,
   "metadata": {
    "collapsed": true
   },
   "outputs": [],
   "source": []
  }
 ],
 "metadata": {
  "kernelspec": {
   "display_name": "Python 3",
   "language": "python",
   "name": "python3"
  },
  "language_info": {
   "codemirror_mode": {
    "name": "ipython",
    "version": 3
   },
   "file_extension": ".py",
   "mimetype": "text/x-python",
   "name": "python",
   "nbconvert_exporter": "python",
   "pygments_lexer": "ipython3",
   "version": "3.6.2"
  }
 },
 "nbformat": 4,
 "nbformat_minor": 2
}
